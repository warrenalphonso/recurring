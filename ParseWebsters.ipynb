{
 "cells": [
  {
   "cell_type": "markdown",
   "metadata": {},
   "source": [
    "[Webster's 1913](https://www.websters1913.com/words/) is a [great dictionary](http://jsomers.net/blog/dictionary). Here, I parse [Project Gutenberg's version](http://www.gutenberg.org/cache/epub/29765/pg29765.txt). The goal is to create a daily email list for myself of words I might actually use. "
   ]
  },
  {
   "cell_type": "markdown",
   "metadata": {},
   "source": [
    "### Parsing "
   ]
  },
  {
   "cell_type": "code",
   "execution_count": 1,
   "metadata": {},
   "outputs": [],
   "source": [
    "import string\n",
    "import time\n",
    "import random"
   ]
  },
  {
   "cell_type": "code",
   "execution_count": 2,
   "metadata": {},
   "outputs": [],
   "source": [
    "with open(\"websters1913.txt\", \"r\") as f:\n",
    "    lines = f.read().split(\"\\n\")"
   ]
  },
  {
   "cell_type": "code",
   "execution_count": 3,
   "metadata": {},
   "outputs": [
    {
     "data": {
      "text/plain": [
       "974266"
      ]
     },
     "execution_count": 3,
     "metadata": {},
     "output_type": "execute_result"
    }
   ],
   "source": [
    "len(lines)"
   ]
  },
  {
   "cell_type": "code",
   "execution_count": 4,
   "metadata": {},
   "outputs": [],
   "source": [
    "def is_word(w):\n",
    "    return w and all(map(lambda c: c in string.ascii_uppercase, w))"
   ]
  },
  {
   "cell_type": "code",
   "execution_count": 5,
   "metadata": {},
   "outputs": [],
   "source": [
    "words = [line for line in lines if is_word(line)]"
   ]
  },
  {
   "cell_type": "code",
   "execution_count": 6,
   "metadata": {},
   "outputs": [
    {
     "data": {
      "text/plain": [
       "103040"
      ]
     },
     "execution_count": 6,
     "metadata": {},
     "output_type": "execute_result"
    }
   ],
   "source": [
    "len(words) "
   ]
  },
  {
   "cell_type": "code",
   "execution_count": 7,
   "metadata": {},
   "outputs": [
    {
     "data": {
      "text/plain": [
       "88629"
      ]
     },
     "execution_count": 7,
     "metadata": {},
     "output_type": "execute_result"
    }
   ],
   "source": [
    "len(list(set(words))) # So it contains duplicates..."
   ]
  },
  {
   "cell_type": "markdown",
   "metadata": {},
   "source": [
    "Hm that's a lot. "
   ]
  },
  {
   "cell_type": "code",
   "execution_count": 8,
   "metadata": {},
   "outputs": [],
   "source": [
    "definitions = {}"
   ]
  },
  {
   "cell_type": "code",
   "execution_count": 9,
   "metadata": {},
   "outputs": [
    {
     "name": "stdout",
     "output_type": "stream",
     "text": [
      "Line:  0\n",
      "Line:  50000\n",
      "Line:  100000\n",
      "Line:  150000\n",
      "Line:  200000\n",
      "Line:  250000\n",
      "Line:  300000\n",
      "Line:  350000\n",
      "Line:  400000\n",
      "Line:  450000\n",
      "Line:  500000\n",
      "Line:  550000\n",
      "Line:  600000\n",
      "Line:  650000\n",
      "Line:  700000\n",
      "Line:  750000\n",
      "Line:  800000\n",
      "Line:  850000\n",
      "Line:  900000\n",
      "Line:  950000\n",
      "Total time:  0.6811576559999999\n"
     ]
    }
   ],
   "source": [
    "curr_word = None\n",
    "start = time.perf_counter()\n",
    "for i, line in enumerate(lines):\n",
    "    if i % 50000 == 0:\n",
    "        print(\"Line: \", i)\n",
    "    \n",
    "    if is_word(line):\n",
    "        curr_word = line \n",
    "        definitions[curr_word] = definitions.get(curr_word, []) # String concatenation makes it O(N**2) which hurts here\n",
    "    elif curr_word and line: \n",
    "        definitions[curr_word].append(line)\n",
    "end = time.perf_counter()\n",
    "print(\"Total time: \", end - start)"
   ]
  },
  {
   "cell_type": "code",
   "execution_count": 10,
   "metadata": {},
   "outputs": [],
   "source": [
    "for k, v in definitions.items():\n",
    "    definitions[k] = \"\\n\".join(v)"
   ]
  },
  {
   "cell_type": "code",
   "execution_count": 11,
   "metadata": {},
   "outputs": [
    {
     "data": {
      "text/plain": [
       "88629"
      ]
     },
     "execution_count": 11,
     "metadata": {},
     "output_type": "execute_result"
    }
   ],
   "source": [
    "len(definitions)"
   ]
  },
  {
   "cell_type": "markdown",
   "metadata": {},
   "source": [
    "### Filtering important words\n",
    "\n",
    "#### Method 1: Length of definition"
   ]
  },
  {
   "cell_type": "code",
   "execution_count": 12,
   "metadata": {},
   "outputs": [
    {
     "data": {
      "text/plain": [
       "32017"
      ]
     },
     "execution_count": 12,
     "metadata": {},
     "output_type": "execute_result"
    }
   ],
   "source": [
    "# Lots of words are tiny obscure ones, need to choose a good cutoff length\n",
    "cutoff_definition_length = 200\n",
    "cutoff_dict = {k: v for k, v in definitions.items() if len(v) > cutoff_definition_length}\n",
    "len(cutoff_dict)"
   ]
  },
  {
   "cell_type": "code",
   "execution_count": 13,
   "metadata": {},
   "outputs": [],
   "source": [
    "def ten_random_words(d):\n",
    "    keys = random.sample(list(d), 10)\n",
    "    for k in keys:\n",
    "        print(\"\\033[1m\" + k + \"\\033[0m\") # Bold \n",
    "        print(d[k])\n",
    "        print(\"\\n\\n\\n\")"
   ]
  },
  {
   "cell_type": "code",
   "execution_count": 14,
   "metadata": {},
   "outputs": [
    {
     "name": "stdout",
     "output_type": "stream",
     "text": [
      "\u001b[1mABLER\u001b[0m\n",
      "A\"bler, a.,\n",
      "Defn: comp. of Able.\n",
      " -- A\"blest, a.,\n",
      "Defn: superl. of Able.\n",
      "ABLET; ABLEN\n",
      "Ab\"let, Ab\"len Etym: [F. ablet, ablette, a dim. fr. LL. abula, for\n",
      "albula, dim. of albus white. Cf. Abele.] (Zoöl.)\n",
      "Defn: A small fresh-water fish (Leuciscus alburnus); the bleak.\n",
      "\n",
      "\n",
      "\n",
      "\n",
      "\u001b[1mTYPHOEAN\u001b[0m\n",
      "Ty*pho\"ë*an, a. Etym: [L. Typhoius, from Typhoeus, Gr.\n",
      "Defn: Of or pertaining to Typhoeus (ti*fo\"us), the fabled giant of\n",
      "Greek mythology, having a hundred heads; resembling Typhoeus.\n",
      "Note: Sometimes incorrectly written and pronounced Ty-phoe''an (, or\n",
      "Ty-phe'' an.\n",
      "\n",
      "\n",
      "\n",
      "\n",
      "\u001b[1mCINCHONIZE\u001b[0m\n",
      "Cin\"cho*nize, v. t.\n",
      "Defn: To produce cinchonism in; to poison with quinine or with\n",
      "cinchona.\n",
      "CINCINNATI EPOCH\n",
      "Cin`cin*na\"ti ep\"och. (Geol.)\n",
      "Defn: An epoch at the close of the American lower Silurian system.\n",
      "The rocks are well developed near Cincinnati, Ohio. The group\n",
      "includes the Hudson River and Lorraine shales of New york.\n",
      "\n",
      "\n",
      "\n",
      "\n",
      "\u001b[1mVOODOOISM\u001b[0m\n",
      "Voo\"doo*ism, n. Etym: [Probably (through Creole French vaudoux a\n",
      "negro sorcerer) fr. F. Vaudois Waldensian, because the Waldenses were\n",
      "accused of sorcery.]\n",
      "Defn: A degraded form of superstition and sorcery, said to include\n",
      "human sacrifices and cannibalism in some of its rites. It is\n",
      "prevalent among the negroes of Hayti, and to some extent in the\n",
      "United States, and is regarded as a relic of African barbarism.\n",
      "\n",
      "\n",
      "\n",
      "\n",
      "\u001b[1mMERCERIZE\u001b[0m\n",
      "Mer\"cer*ize, v. t.  [imp. & p. p. -ized; p. pr. & vb. n. -izing.]\n",
      "[From (John) Mercer (1791-1866), an English calico printer who\n",
      "introduced the process + -ize.]\n",
      "Defn: To treat (cotton fiber or fabrics) with a solution of caustic\n",
      "alkali. Such treatment causes the fiber to shrink in length and\n",
      "become stronger and more receptive of dyes. If the yarn or cloth is\n",
      "kept under tension during the process, it assumes a silky luster. --\n",
      "Mer`cer*i*za\"tion (#), n.\n",
      "\n",
      "\n",
      "\n",
      "\n",
      "\u001b[1mENDUE\u001b[0m\n",
      "En*due\", v. t. [imp. & p. p. Endued; p. pr. & vb. n. Enduing.] Etym:\n",
      "[L. induere, prob. confused with E. endow. See Indue.]\n",
      "Defn: To invest. Latham.\n",
      "Tarry ye in the city of Jerusalem, until ye be endued with power from\n",
      "on high. Luke xxiv. 49.\n",
      "Endue them . . . with heavenly gifts. Book of Common Prayer.\n",
      "En*due\", v. t.\n",
      "Defn: An older spelling of Endow. Tillotson.\n",
      "\n",
      "\n",
      "\n",
      "\n",
      "\u001b[1mTRADUCT\u001b[0m\n",
      "Tra*duct\", v. t. Etym: [L. traducere, traductum. See Traduce.]\n",
      "Defn: To derive or deduce; also, to transmit; to transfer. [Obs.]\n",
      "Fotherby.\n",
      "Tra*duct\", n.\n",
      "Defn: That which is traducted; that which is transferred; a\n",
      "translation. [Obs.] Howell.\n",
      "\n",
      "\n",
      "\n",
      "\n",
      "\u001b[1mMANOR\u001b[0m\n",
      "Man\"or, n. Etym: [OE. maner, OF. maneir habitation, village, F.\n",
      "manoir manor, prop. the OF. inf. maneir to stay, remain, dwell, L.\n",
      "manere, and so called because it was the permanent residence of the\n",
      "lord and of his tenants. See Mansion, and cf. Remain.]\n",
      "1. (Eng. Law)\n",
      "Defn: The land belonging to a lord or nobleman, or so much land as a\n",
      "lord or great personage kept in his own hands, for the use and\n",
      "subsistence of his family.\n",
      "My manors, rents, revenues, l forego. Shak.\n",
      "Note: In these days, a manor rather signifies the jurisdiction and\n",
      "royalty incorporeal, than the land or site, for a man may have a\n",
      "manor in gross, as the law terms it, that is, the right and interest\n",
      "of a court-baron, with the perquisites thereto belonging.\n",
      "2. (American Law)\n",
      "Defn: A tract of land occupied by tenants who pay a free-farm rent to\n",
      "the proprietor, sometimes in kind, and sometimes by performing\n",
      "certain stipulated services. Burrill. Manor house, or Manor seat, the\n",
      "house belonging to a manor.\n",
      "\n",
      "\n",
      "\n",
      "\n",
      "\u001b[1mHOMELY\u001b[0m\n",
      "Home\"ly, a. [Compar. Homelier; superl. Homeliest.] Etym: [From Home,\n",
      "n.]\n",
      "1. Belonging to, or having the characteristics of, home; domestic;\n",
      "familiar; intimate. [Archaic]\n",
      "With all these men I was right homely, and communed with, them long\n",
      "and oft. Foxe.\n",
      "Their homely joys, and destiny obscure. Gray.\n",
      "2. Plain; unpretending; rude in appearance; unpolished; as, a homely\n",
      "garment; a homely house; homely fare; homely manners.\n",
      "Now Strephon daily entertains His Chloe in the homeliest strains.\n",
      "Pope.\n",
      "3. Of plain or coarse features; uncomely; -- contrary to handsome.\n",
      "None so homely but loves a looking-glass. South.\n",
      "Home\"ly, adv.\n",
      "Defn: Plainly; rudely; coarsely; as, homely dressed. [R.] Spenser.\n",
      "\n",
      "\n",
      "\n",
      "\n",
      "\u001b[1mUMPIRAGE\u001b[0m\n",
      "Um\"pi*rage (; 48), n. Etym: [From Umpire.]\n",
      "1. The office of an umpire; the power, right, or authority of an\n",
      "umpire to decide.\n",
      "The mind umpirage of the federal Union. E. Everett.\n",
      "2. The act of umpiring; arbitrament. Bp. Hall.\n",
      "\n",
      "\n",
      "\n",
      "\n"
     ]
    }
   ],
   "source": [
    "ten_random_words(cutoff_dict)"
   ]
  },
  {
   "cell_type": "markdown",
   "metadata": {},
   "source": [
    ":( I've never heard of most of these and don't expect them to be useful. \n",
    "\n",
    "#### Method 2: Frequency \n",
    "\n",
    "We use the [top 1/3 million most frequent words](https://norvig.com/ngrams/count_1w.txt) as determined by [Google's n-gram](https://ai.googleblog.com/2006/08/all-our-n-gram-are-belong-to-you.html):\n",
    "\n",
    "> We processed 1,024,908,267,229 words of running text and are publishing the counts for all 1,176,470,663 five-word sequences that appear at least 40 times. There are 13,588,391 unique words, after discarding words that appear less than 200 times."
   ]
  },
  {
   "cell_type": "code",
   "execution_count": 15,
   "metadata": {},
   "outputs": [],
   "source": [
    "n_common = 10_000 # Keep it to 10_000 most common words"
   ]
  },
  {
   "cell_type": "code",
   "execution_count": 16,
   "metadata": {},
   "outputs": [],
   "source": [
    "with open(\"ngram_common.txt\", \"r\") as f:\n",
    "    lines = f.read().split(\"\\n\")[:-1] # Last line is empty line\n",
    "    # Remove frequency \n",
    "    lines = list(map(lambda l: l.split(\"\\t\"), lines))\n",
    "    most_common = set([w for w, f in lines][1000:n_common]) # Constant lookup time"
   ]
  },
  {
   "cell_type": "code",
   "execution_count": 17,
   "metadata": {},
   "outputs": [
    {
     "data": {
      "text/plain": [
       "9000"
      ]
     },
     "execution_count": 17,
     "metadata": {},
     "output_type": "execute_result"
    }
   ],
   "source": [
    "len(most_common) # Excludign 1000 most common words"
   ]
  },
  {
   "cell_type": "code",
   "execution_count": 18,
   "metadata": {},
   "outputs": [],
   "source": [
    "def is_common(w):\n",
    "    # most_common is already lowercase\n",
    "    return w.lower() in most_common"
   ]
  },
  {
   "cell_type": "code",
   "execution_count": 19,
   "metadata": {},
   "outputs": [],
   "source": [
    "frequent_dict = {k: v for k, v in definitions.items() if is_common(k)}"
   ]
  },
  {
   "cell_type": "code",
   "execution_count": 20,
   "metadata": {},
   "outputs": [
    {
     "data": {
      "text/plain": [
       "4763"
      ]
     },
     "execution_count": 20,
     "metadata": {},
     "output_type": "execute_result"
    }
   ],
   "source": [
    "len(frequent_dict)"
   ]
  },
  {
   "cell_type": "code",
   "execution_count": 21,
   "metadata": {},
   "outputs": [
    {
     "name": "stdout",
     "output_type": "stream",
     "text": [
      "\u001b[1mCOOLER\u001b[0m\n",
      "Cool\"er, n.\n",
      "Defn: That which cools, or abates heat or excitement.\n",
      "if acid things were used only as coolers, they would not be so proper\n",
      "in this case. Arbuthnot.\n",
      "2. Anything in or by which liquids or other things are cooled, as an\n",
      "ice chest, a vessel for ice water, etc.\n",
      "COOL-HEADED\n",
      "Cool\"-head`ed, a.\n",
      "Defn: Having a temper not easily excited; free from passion.\n",
      " -- Cool\"-head`ed*ness, n.\n",
      "\n",
      "\n",
      "\n",
      "\n",
      "\u001b[1mSPEECH\u001b[0m\n",
      "Speech, n. Etym: [OE. speche, AS. sp, spr, fr. specan, sprecan, to\n",
      "speak; akin to D. spraak speech, OHG. sprahha, G. sprache, Sw. spr,\n",
      "Dan. sprog. See Speak.]\n",
      "1. The faculty of uttering articulate sounds or words; the faculty of\n",
      "expressing thoughts by words or articulate sounds; the power of\n",
      "speaking.\n",
      "There is none comparable to the variety of instructive expressions by\n",
      "speech, wherewith man alone is endowed for the communication of his\n",
      "thoughts. Holder.\n",
      "2. he act of speaking; that which is spoken; words, as expressing\n",
      "ideas; language; conversation.\n",
      "Note: Speech is voice modulated by the throat, tongue, lips, etc.,\n",
      "the modulation being accomplished by changing the form of the cavity\n",
      "of the mouth and nose through the action of muscles which move their\n",
      "walls.\n",
      "O goode God! how gentle and how kind Ye seemed by your speech and\n",
      "your visage The day that maked was our marriage. Chaucer.\n",
      "The acts of God . . . to human ears Can nort without process of\n",
      "speech be told. Milton.\n",
      "3. A particular language, as distinct from others; a tongue; a\n",
      "dialect.\n",
      "People of a strange speech and of an hard language. Ezek. iii. 6.\n",
      "4. Talk; mention; common saying.\n",
      "The duke . . . did of me demand What was the speech among the\n",
      "Londoners Concerning the French journey. Shak.\n",
      "5. formal discourse in public; oration; harangue.\n",
      "The constant design of these orators, in all their speeches, was to\n",
      "drive some one particular point. Swift.\n",
      "6. ny declaration of thoughts.\n",
      "I. with leave of speech implored, . . . replied. Milton.\n",
      "Syn. Harangue; language; address; oration. See Harangue, and\n",
      "Language.\n",
      "Speech, v. i. & t.\n",
      "Defn: To make a speech; to harangue. [R.]\n",
      "\n",
      "\n",
      "\n",
      "\n",
      "\u001b[1mNAT\u001b[0m\n",
      "Nat, adv.\n",
      "Defn: Not. [Obs.] Chaucer.\n",
      "Nat Etym: [For ne at.]\n",
      "Defn: Not at; nor at. [Obs.] haucer.\n",
      "\n",
      "\n",
      "\n",
      "\n",
      "\u001b[1mENCOUNTER\u001b[0m\n",
      "En*coun\"ter, v. t. [imp. & p. p. Encountered; p. pr. & vb. n.\n",
      "Encountering.] Etym: [OF. encontrer; pref. en- (L. in) + contre\n",
      "against, L. contra. See Counter, adv.]\n",
      "Defn: To come against face to face; to meet; to confront, either by\n",
      "chance, suddenly, or deliberately; especially, to meet in opposition\n",
      "or with hostile intent; to engage in conflict with; to oppose; to\n",
      "struggle with; as, to encounter a friend in traveling; two armies\n",
      "encounter each other; to encounter obstacles or difficulties, to\n",
      "encounter strong evidence of a truth.\n",
      "Then certain philosophers of the Epicureans, and of the Stoics,\n",
      "encountered him. Acts xvii. 18.\n",
      "I am most fortunate thus accidentally to encounter you. Shak.\n",
      "En*coun\"ter, v. i.\n",
      "Defn: To meet face to face; to have a meeting; to meet, esp. as\n",
      "enemies; to engage in combat; to fight; as, three armies encountered\n",
      "at Waterloo.\n",
      "I will encounter with Andronicus. Shak.\n",
      "Perception and judgment, employed in the investigation of all truth,\n",
      "have in the first place to encounter with particulars. Tatham.\n",
      "En*coun\"ter, n. Etym: [OF. encontre, fr. encontrer. See Encounter, v.\n",
      "t.]\n",
      "1. A meeting face to face; a running against; a sudden or incidental\n",
      "meeting; an interview.\n",
      "To shun the encounter of the vulgar crowd. Pope.\n",
      "2. A meeting, with hostile purpose; hence, a combat; a battle; as, a\n",
      "bloody encounter.\n",
      "As one for . . . fierce encounters fit. Spenser.\n",
      "To join their dark encounter in mid-air. Milton\n",
      ".\n",
      "Syn.\n",
      " -- Contest; conflict; fight; combat; assault; rencounter; attack;\n",
      "engagement; onset. See Contest.\n",
      "\n",
      "\n",
      "\n",
      "\n",
      "\u001b[1mTRAINER\u001b[0m\n",
      "Train\"er, n.\n",
      "1. One who trains; an instructor; especially, one who trains or\n",
      "prepares men, horses, etc., for exercises requiring physical agility\n",
      "and strength.\n",
      "2. A militiaman when called out for exercise or discipline. [U. S.]\n",
      "Bartlett.\n",
      "\n",
      "\n",
      "\n",
      "\n",
      "\u001b[1mTISSUE\u001b[0m\n",
      "Tis\"sue, n. Etym: [F. tissu, fr. tissu, p.p. of tisser, tistre, to\n",
      "weave, fr. L. texere. See Text.]\n",
      "1. A woven fabric.\n",
      "2. A fine transparent silk stuff, used for veils, etc.; specifically,\n",
      "cloth interwoven with gold or silver threads, or embossed with\n",
      "figures.\n",
      "A robe of tissue, stiff with golden wire. Dryden.\n",
      "In their glittering tissues bear emblazed Holy memorials. Milton.\n",
      "3. (Biol.)\n",
      "Defn: One of the elementary materials or fibres, having a uniform\n",
      "structure and a specialized function, of which ordinary animals and\n",
      "plants are composed; a texture; as, epithelial tissue; connective\n",
      "tissue.\n",
      "Note: The term tissue is also often applied in a wider sense to all\n",
      "the materials or elementary tissues, differing in structure and\n",
      "function, which go to make up an organ; as, vascular tissue,\n",
      "tegumentary tissue, etc.\n",
      "4. Fig.: Web; texture; complicated fabrication; connected series; as,\n",
      "a tissue of forgeries, or of falsehood.\n",
      "Unwilling to leave the dry bones of Agnosticism wholly unclothed with\n",
      "any living tissue of religious emotion. A. J. Balfour.\n",
      "Tissue paper, very thin, gauzelike paper, used for protecting\n",
      "engravings in books, for wrapping up delicate articles, etc.\n",
      "Tis\"sue, v. t. [imp. & p. p. Tissued; p. pr. & vb. n. Tissuing.]\n",
      "Defn: To form tissue of; to interweave.\n",
      "Covered with cloth of gold tissued upon blue. Bacon.\n",
      "\n",
      "\n",
      "\n",
      "\n",
      "\u001b[1mTRINITY\u001b[0m\n",
      "Trin\"i*ty, n. Etym: [OE. trinitee, F. trinité, L. trinitas, fr. trini\n",
      "three each. See Trinal.]\n",
      "1. (Christian Theol.)\n",
      "Defn: The union of three persons (the Father, the Son, and the Holy\n",
      "Ghost) in one Godhead, so that all the three are one God as to\n",
      "substance, but three persons as to individuality.\n",
      "2. Any union of three in one; three units treated as one; a triad, as\n",
      "the Hindoo trinity, or Trimurti.\n",
      "3. Any symbol of the Trinity employed in Christian art, especially\n",
      "the triangle. Trinity House, an institution in London for promoting\n",
      "commerce and navigation, by licensing pilots, ordering and erecting\n",
      "beacons, and the like.\n",
      " -- Trinity Sunday, the Sunday next after Whitsunday; -- so called\n",
      "from the feast held on that day in honor of the Holy Trinity.\n",
      " -- Trinity term. (Law) See the Note under Term, n., 5.\n",
      "\n",
      "\n",
      "\n",
      "\n",
      "\u001b[1mCANT\u001b[0m\n",
      "Cant, n. Etym: [OF., edge, angle, prof. from L. canthus the iron ring\n",
      "round a carriage wheel, a wheel, Gr. cant the stake or tire of a\n",
      "wheel. Cf. Canthus, Canton, Cantle.]\n",
      "1. A corner; angle; niche. [Obs.]\n",
      "The first and principal person in the temple was Irene, or Peace; she\n",
      "was placed aloft in a cant. B. Jonson.\n",
      "2. An outer or external angle.\n",
      "3. An inclination from a horizontal or vertical line; a slope or\n",
      "bevel; a titl. Totten.\n",
      "4. A sudden thrust, push, kick, or other impulse, producing a bias or\n",
      "change of direction; also, the bias or turn so give; as, to give a\n",
      "ball a cant.\n",
      "5. (Coopering)\n",
      "Defn: A segment forming a side piece in the head of a cask. Knight.\n",
      "6. (Mech.)\n",
      "Defn: A segment of he rim of a wooden cogwheel. Knight.\n",
      "7. (Naut.)\n",
      "Defn: A piece of wood laid upon athe deck of a vessel to support the\n",
      "bulkneads. Cant frames, Cant timbers (Naut.), timber at the two ends\n",
      "of a ship, rising obliquely from the keel.\n",
      "Cant, v. t. [imp & p. p. Canted; p. pr. & vb. N. Canting.]\n",
      "1. To incline; to set at an angle; to titl over; to tip upon the\n",
      "edge; as, to cant a cask; to cant a ship.\n",
      "2. To give a sudden turn or new direction to; as, to cant round a\n",
      "stick of timber; to cant a football.\n",
      "3. To cut off an angle from, as from a square piece of timber, or\n",
      "from the head of a bolt.\n",
      "Cant, n. Etym: [Prob. from OF. cant, F. chant, singing, in allusion\n",
      "to the singing or whining tine of voice used by beggars, fr. L.\n",
      "cantus. See Chant.]\n",
      "1. An affected, singsong mode of speaking.\n",
      "2. The idioms and peculiarities of speech in any sect, class, or\n",
      "occupation. Goldsmith.\n",
      "The cant of any profession. Dryden.\n",
      "3. The use of religious phraseology without understanding or\n",
      "sincerity; empty, solemn speech, implying what is not felt;\n",
      "hypocrisy.\n",
      "They shall hear no cant fromF. W. Robertson\n",
      "4. Vulgar jargon; slang; the secret language spoker by gipsies,\n",
      "thieves. tramps, or beggars.\n",
      "Cant, a.\n",
      "Defn: Of the nature of cant; affected; vulgar.\n",
      "To introduce and multiply cant words in the most ruinous corruption\n",
      "in any language. Swift.\n",
      "Cant, v. i.\n",
      "1. To speak in a whining voice, or an affected, sinsong tone.\n",
      "2. To make whining pretensions to goodness; to talk with an\n",
      "affectation of religion, philanthropy, etc.; to practice hypocrisy;\n",
      "as, a canting fanatic.\n",
      "The rankest rogue that ever canted. Beau. & Fl.\n",
      "3. To use pretentious language, barbarous jargon, or technical\n",
      "termes; to talk with an affectation of learning.\n",
      "The doctor here, When he discqurseth of dissection, Of vena cava and\n",
      "of vena porta, The meseræum and the mesentericum, What does he else\n",
      "but cant. B. Jonson\n",
      "That uncouth affected garb of speech, or canting hanguage, if I may\n",
      "so call it. Bp. Sanderson.\n",
      "Cant, n. Etym: [Prob. from OF. cant, equiv. to L. quantum; cf. F.\n",
      "encan, fr. L. in quantum, i.e. \"for how much\"]\n",
      "Defn: A all for bidders at a public sale; an auction. \"To sell their\n",
      "leases by cant.\" Swift.\n",
      "Cant, v. t.\n",
      "Defn: to sell by auction, or bid a price at a sale by auction.\n",
      "[Archaic] Swift.\n",
      "CAN'T\n",
      "Can't.\n",
      "Defn: A colloquial contraction for can not.\n",
      "\n",
      "\n",
      "\n",
      "\n",
      "\u001b[1mURGENT\u001b[0m\n",
      "Ur\"gent, a. Etym: [L. urgens, p. pr. of urgere: cf. F. urgent. See\n",
      "Urge.]\n",
      "Defn: Urging; pressing; besetting; plying, with importunity; calling\n",
      "for immediate attention; instantly important. \"The urgent hour.\"\n",
      "Shak.\n",
      "Some urgent cause to ordain the contrary. Hooker.\n",
      "The Egyptians were urgent upon the people that they might send them\n",
      "out of the land in haste. Ex. xii. 33.\n",
      "\n",
      "\n",
      "\n",
      "\n",
      "\u001b[1mACTUALLY\u001b[0m\n",
      "Ac\"tu*al*ly, adv.\n",
      "1. Actively. [Obs.] \"Neither actually . . . nor passively.\" Fuller.\n",
      "2. In act or in fact; really; in truth; positively.\n",
      "\n",
      "\n",
      "\n",
      "\n"
     ]
    }
   ],
   "source": [
    "ten_random_words(frequent_dict)"
   ]
  },
  {
   "cell_type": "code",
   "execution_count": 22,
   "metadata": {},
   "outputs": [
    {
     "data": {
      "text/plain": [
       "13"
      ]
     },
     "execution_count": 22,
     "metadata": {},
     "output_type": "execute_result"
    }
   ],
   "source": [
    "len(frequent_dict) // 365"
   ]
  },
  {
   "cell_type": "markdown",
   "metadata": {},
   "source": [
    "That's much better! It will take *13 years* to get through this with one word a day. I've re-written this in `words.py`, which also saves the result to a CSV. "
   ]
  },
  {
   "cell_type": "code",
   "execution_count": null,
   "metadata": {},
   "outputs": [],
   "source": []
  }
 ],
 "metadata": {
  "kernelspec": {
   "display_name": "Python 3",
   "language": "python",
   "name": "python3"
  },
  "language_info": {
   "codemirror_mode": {
    "name": "ipython",
    "version": 3
   },
   "file_extension": ".py",
   "mimetype": "text/x-python",
   "name": "python",
   "nbconvert_exporter": "python",
   "pygments_lexer": "ipython3",
   "version": "3.8.3"
  }
 },
 "nbformat": 4,
 "nbformat_minor": 4
}
