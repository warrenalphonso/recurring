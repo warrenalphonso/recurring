{
 "cells": [
  {
   "cell_type": "markdown",
   "id": "53c0e831",
   "metadata": {},
   "source": [
    "I want to read and slowly Anki all of the words in Norman Schur's _1000 Most Important Words_. I know what most of them mean, but I want to practice using Anki to keep something at the tip of my memory, so I actually notice when I should be using it. James Somers has [published a list of all the words](https://web.archive.org/web/20200221191129/http://jsomers.net/1000.html), so I'll use that to send myself an email every day with a new word. "
   ]
  },
  {
   "cell_type": "code",
   "execution_count": 1,
   "id": "0e1ae827",
   "metadata": {},
   "outputs": [],
   "source": [
    "from urllib.request import urlopen\n",
    "from bs4 import BeautifulSoup\n",
    "import csv\n",
    "import random\n",
    "random.seed(0)"
   ]
  },
  {
   "cell_type": "code",
   "execution_count": 2,
   "id": "2fdeea65",
   "metadata": {},
   "outputs": [],
   "source": [
    "url = \"https://web.archive.org/web/20200221191129/http://jsomers.net/1000.html\""
   ]
  },
  {
   "cell_type": "code",
   "execution_count": 3,
   "id": "5ca567ad",
   "metadata": {},
   "outputs": [],
   "source": [
    "page = urlopen(url).read()\n",
    "soup = BeautifulSoup(page)"
   ]
  },
  {
   "cell_type": "code",
   "execution_count": 4,
   "id": "9b9b2c42",
   "metadata": {},
   "outputs": [],
   "source": [
    "# Randomize words\n",
    "lis = soup.select(\"ol > li\")\n",
    "random.shuffle(lis)"
   ]
  },
  {
   "cell_type": "code",
   "execution_count": 5,
   "id": "5de34e11",
   "metadata": {},
   "outputs": [
    {
     "data": {
      "text/plain": [
       "'There are 1019 words'"
      ]
     },
     "execution_count": 5,
     "metadata": {},
     "output_type": "execute_result"
    }
   ],
   "source": [
    "f\"There are {len(lis)} words\""
   ]
  },
  {
   "cell_type": "code",
   "execution_count": 6,
   "id": "31b93ea4",
   "metadata": {},
   "outputs": [
    {
     "data": {
      "text/plain": [
       "'foray'"
      ]
     },
     "execution_count": 6,
     "metadata": {},
     "output_type": "execute_result"
    }
   ],
   "source": [
    "lis[0].string"
   ]
  },
  {
   "cell_type": "code",
   "execution_count": 7,
   "id": "9925a06e",
   "metadata": {},
   "outputs": [],
   "source": [
    "with open(\"schur.csv\", \"w\") as f:\n",
    "    writer = csv.writer(f)\n",
    "    for li in lis:\n",
    "        # Somers put asterisks in front of words he didn't know \n",
    "        word = li.string\n",
    "        if word[0] == '*':\n",
    "            word = word[1:]\n",
    "        writer.writerow([word])"
   ]
  },
  {
   "cell_type": "code",
   "execution_count": null,
   "id": "27fb623d",
   "metadata": {},
   "outputs": [],
   "source": []
  }
 ],
 "metadata": {
  "kernelspec": {
   "display_name": "Python 3",
   "language": "python",
   "name": "python3"
  },
  "language_info": {
   "codemirror_mode": {
    "name": "ipython",
    "version": 3
   },
   "file_extension": ".py",
   "mimetype": "text/x-python",
   "name": "python",
   "nbconvert_exporter": "python",
   "pygments_lexer": "ipython3",
   "version": "3.9.4"
  }
 },
 "nbformat": 4,
 "nbformat_minor": 5
}
